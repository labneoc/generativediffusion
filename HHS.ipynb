{
 "cells": [
  {
   "cell_type": "code",
   "execution_count": 1,
   "metadata": {},
   "outputs": [],
   "source": [
    "import numpy as np\n",
    "import os\n",
    "import matplotlib.pyplot as plt\n",
    "import emd\n",
    "from scipy.signal import hilbert\n",
    "from scipy import ndimage"
   ]
  },
  {
   "cell_type": "code",
   "execution_count": 2,
   "metadata": {},
   "outputs": [],
   "source": [
    "output_dir = \"./00007656_s010_t000_processed_data\"\n",
    "results_dir = \"./results\"\n",
    "if not os.path.exists(results_dir):\n",
    "    os.makedirs(results_dir)"
   ]
  },
  {
   "cell_type": "code",
   "execution_count": 3,
   "metadata": {},
   "outputs": [],
   "source": [
    "fs = 256  # Frequência de amostragem\n",
    "channel = \"EEG_F3-REF\"  # Canal a ser analisado"
   ]
  },
  {
   "cell_type": "markdown",
   "metadata": {},
   "source": [
    "# HHSA para um paciente e um canal"
   ]
  },
  {
   "cell_type": "code",
   "execution_count": 4,
   "metadata": {},
   "outputs": [],
   "source": [
    "def holospectrum_single_channel(data, fs=256):\n",
    "    \"\"\"\n",
    "    Aplica Holo-Hilbert Spectral Analysis (HHSA) ao sinal de EEG de um único canal.\n",
    "    \"\"\"\n",
    "    # Garantir que o dado seja uma matriz 2D com dimensões corretas\n",
    "    if data.ndim == 1:\n",
    "        data = data.reshape(-1, 1)  # Reshape para (n_samples, 1)\n",
    "    \n",
    "    # Configuração da Decomposição\n",
    "    config = emd.sift.get_config('mask_sift')\n",
    "    config['max_imfs'] = 4\n",
    "    config['mask_freqs'] = 'if'\n",
    "    config['mask_amp_mode'] = 'ratio_imf'\n",
    "    config['imf_opts/sd_thresh'] = 0.5\n",
    "    config['mask_step_factor'] = 5\n",
    "\n",
    "    # Decomposição usando Mask SIFT\n",
    "    imf = emd.sift.mask_sift(data, **config)\n",
    "\n",
    "    # Transformada de Hilbert\n",
    "    IP, IF, IA = emd.spectra.frequency_transform(imf, fs, 'nht')\n",
    "\n",
    "    # Segunda camada de decomposição\n",
    "    masks = np.array([25 / 2**ii for ii in range(12)]) / fs\n",
    "    imf2 = emd.sift.mask_sift_second_layer(IA, masks, sift_args=config)\n",
    "\n",
    "    # Transformada de Hilbert na segunda camada\n",
    "    IP2, IF2, IA2 = emd.spectra.frequency_transform(imf2, fs, 'nht')\n",
    "\n",
    "    # Configuração do histograma\n",
    "    carrier_hist = (1, 100, 128, 'log')\n",
    "    am_hist = (1e-2, 100, 128, 'log')\n",
    "\n",
    "    # Computar HHT\n",
    "    fcarrier, hht = emd.spectra.hilberthuang(IF, IA, carrier_hist, sum_time=False)\n",
    "    shht = ndimage.gaussian_filter(hht, 2)\n",
    "\n",
    "    # Garantir que IF, IF2 e IA2 tenham as dimensões corretas\n",
    "    IF = np.broadcast_to(IF, IF2.shape)\n",
    "    IF2 = IF2.squeeze()\n",
    "    IA2 = IA2.squeeze()\n",
    "\n",
    "    # Computar HHSA\n",
    "    fcarrier, fam, holo = emd.spectra.holospectrum(IF, IF2, IA2, carrier_hist, am_hist)\n",
    "    sholo = ndimage.gaussian_filter(holo, 1)\n",
    "\n",
    "    np.nan_to_num(sholo, copy=False)\n",
    "\n",
    "    # Computar o espectro de potência\n",
    "    spec = np.mean(IA**2, axis=0)\n",
    "\n",
    "    return fcarrier, fam, sholo, shht, spec"
   ]
  },
  {
   "cell_type": "code",
   "execution_count": 5,
   "metadata": {},
   "outputs": [],
   "source": [
    "def process_single_channel(output_dir, channel, fs=256, result_dir='./results'):\n",
    "    if not os.path.exists(result_dir):\n",
    "        os.makedirs(result_dir)\n",
    "\n",
    "    # Carregar o sinal\n",
    "    signal_path = os.path.join(output_dir, f\"{channel}.npy\")\n",
    "    signal = np.load(signal_path)\n",
    "\n",
    "    # Garantir que o sinal seja 1D\n",
    "    if signal.ndim != 1:\n",
    "        signal = signal.flatten()\n",
    "\n",
    "    fcarrier, fam, sholo, shht, spec = holospectrum_single_channel(signal, fs)\n",
    "    \n",
    "    # Plotando os resultados\n",
    "    fig, axes = plt.subplots(2, 2, figsize=(20, 20))\n",
    "\n",
    "    # HHT\n",
    "    cp = axes[0, 0].contourf(fcarrier, fcarrier, shht.T, cmap='jet', levels=40)\n",
    "    axes[0, 0].set_yscale('log')\n",
    "    axes[0, 0].set_xscale('log')\n",
    "    axes[0, 0].set_title('Hilbert-Huang Transform')\n",
    "    axes[0, 0].set_xlabel('Frequency (Hz)')\n",
    "    axes[0, 0].set_ylabel('Frequency (Hz)')\n",
    "    plt.colorbar(cp, ax=axes[0, 0])\n",
    "\n",
    "    # HHSA\n",
    "    cp = axes[0, 1].contourf(fcarrier, fam, sholo.T, cmap='jet', levels=40)\n",
    "    axes[0, 1].set_yscale('log')\n",
    "    axes[0, 1].set_xscale('log')\n",
    "    axes[0, 1].set_title('Holo-Hilbert Spectrum')\n",
    "    axes[0, 1].set_xlabel('FM Frequency (Hz)')\n",
    "    axes[0, 1].set_ylabel('AM Frequency (Hz)')\n",
    "    plt.colorbar(cp, ax=axes[0, 1])\n",
    "\n",
    "    # Marginal Spectrum\n",
    "    axes[1, 0].plot(fcarrier, np.sum(shht, axis=1))\n",
    "    axes[1, 0].set_xscale('log')\n",
    "    axes[1, 0].set_title('Marginal Spectrum')\n",
    "    axes[1, 0].set_xlabel('Frequency (Hz)')\n",
    "    axes[1, 0].set_ylabel('Amplitude')\n",
    "\n",
    "    # Power Spectrum\n",
    "    axes[1, 1].plot(fcarrier, spec)\n",
    "    axes[1, 1].set_xscale('log')\n",
    "    axes[1, 1].set_yscale('log')\n",
    "    axes[1, 1].set_title('Power Spectrum')\n",
    "    axes[1, 1].set_xlabel('Frequency (Hz)')\n",
    "    axes[1, 1].set_ylabel('Power')\n",
    "\n",
    "    plt.tight_layout()\n",
    "    plt.savefig(f'{result_dir}/holo_hilbert_{channel}.png', dpi=100, bbox_inches='tight')\n",
    "    plt.close()\n",
    "\n",
    "    print(f\"Holo-Hilbert Spectral Analysis concluído para o canal {channel}!\")\n"
   ]
  },
  {
   "cell_type": "code",
   "execution_count": 6,
   "metadata": {},
   "outputs": [
    {
     "ename": "ValueError",
     "evalue": "operands could not be broadcast together with remapped shapes [original->remapped]: (258048,4)  and requested shape (258048,4,4)",
     "output_type": "error",
     "traceback": [
      "\u001b[0;31m---------------------------------------------------------------------------\u001b[0m",
      "\u001b[0;31mValueError\u001b[0m                                Traceback (most recent call last)",
      "Cell \u001b[0;32mIn[6], line 2\u001b[0m\n\u001b[1;32m      1\u001b[0m \u001b[38;5;66;03m# Aplicação no dado\u001b[39;00m\n\u001b[0;32m----> 2\u001b[0m \u001b[43mprocess_single_channel\u001b[49m\u001b[43m(\u001b[49m\u001b[43moutput_dir\u001b[49m\u001b[43m,\u001b[49m\u001b[43m \u001b[49m\u001b[43mchannel\u001b[49m\u001b[43m,\u001b[49m\u001b[43mfs\u001b[49m\u001b[43m)\u001b[49m\n",
      "Cell \u001b[0;32mIn[5], line 13\u001b[0m, in \u001b[0;36mprocess_single_channel\u001b[0;34m(output_dir, channel, fs, result_dir)\u001b[0m\n\u001b[1;32m     10\u001b[0m \u001b[38;5;28;01mif\u001b[39;00m signal\u001b[38;5;241m.\u001b[39mndim \u001b[38;5;241m!=\u001b[39m \u001b[38;5;241m1\u001b[39m:\n\u001b[1;32m     11\u001b[0m     signal \u001b[38;5;241m=\u001b[39m signal\u001b[38;5;241m.\u001b[39mflatten()\n\u001b[0;32m---> 13\u001b[0m fcarrier, fam, sholo, shht, spec \u001b[38;5;241m=\u001b[39m \u001b[43mholospectrum_single_channel\u001b[49m\u001b[43m(\u001b[49m\u001b[43msignal\u001b[49m\u001b[43m,\u001b[49m\u001b[43m \u001b[49m\u001b[43mfs\u001b[49m\u001b[43m)\u001b[49m\n\u001b[1;32m     15\u001b[0m \u001b[38;5;66;03m# Plotando os resultados\u001b[39;00m\n\u001b[1;32m     16\u001b[0m fig, axes \u001b[38;5;241m=\u001b[39m plt\u001b[38;5;241m.\u001b[39msubplots(\u001b[38;5;241m2\u001b[39m, \u001b[38;5;241m2\u001b[39m, figsize\u001b[38;5;241m=\u001b[39m(\u001b[38;5;241m20\u001b[39m, \u001b[38;5;241m20\u001b[39m))\n",
      "Cell \u001b[0;32mIn[4], line 39\u001b[0m, in \u001b[0;36mholospectrum_single_channel\u001b[0;34m(data, fs)\u001b[0m\n\u001b[1;32m     36\u001b[0m shht \u001b[38;5;241m=\u001b[39m ndimage\u001b[38;5;241m.\u001b[39mgaussian_filter(hht, \u001b[38;5;241m2\u001b[39m)\n\u001b[1;32m     38\u001b[0m \u001b[38;5;66;03m# Garantir que IF, IF2 e IA2 tenham as dimensões corretas\u001b[39;00m\n\u001b[0;32m---> 39\u001b[0m IF \u001b[38;5;241m=\u001b[39m \u001b[43mnp\u001b[49m\u001b[38;5;241;43m.\u001b[39;49m\u001b[43mbroadcast_to\u001b[49m\u001b[43m(\u001b[49m\u001b[43mIF\u001b[49m\u001b[43m,\u001b[49m\u001b[43m \u001b[49m\u001b[43mIF2\u001b[49m\u001b[38;5;241;43m.\u001b[39;49m\u001b[43mshape\u001b[49m\u001b[43m)\u001b[49m\n\u001b[1;32m     40\u001b[0m IF2 \u001b[38;5;241m=\u001b[39m IF2\u001b[38;5;241m.\u001b[39msqueeze()\n\u001b[1;32m     41\u001b[0m IA2 \u001b[38;5;241m=\u001b[39m IA2\u001b[38;5;241m.\u001b[39msqueeze()\n",
      "File \u001b[0;32m~/Documents/codes/templedata/venv/lib/python3.13/site-packages/numpy/lib/_stride_tricks_impl.py:424\u001b[0m, in \u001b[0;36mbroadcast_to\u001b[0;34m(array, shape, subok)\u001b[0m\n\u001b[1;32m    377\u001b[0m \u001b[38;5;129m@array_function_dispatch\u001b[39m(_broadcast_to_dispatcher, module\u001b[38;5;241m=\u001b[39m\u001b[38;5;124m'\u001b[39m\u001b[38;5;124mnumpy\u001b[39m\u001b[38;5;124m'\u001b[39m)\n\u001b[1;32m    378\u001b[0m \u001b[38;5;28;01mdef\u001b[39;00m\u001b[38;5;250m \u001b[39m\u001b[38;5;21mbroadcast_to\u001b[39m(array, shape, subok\u001b[38;5;241m=\u001b[39m\u001b[38;5;28;01mFalse\u001b[39;00m):\n\u001b[1;32m    379\u001b[0m \u001b[38;5;250m    \u001b[39m\u001b[38;5;124;03m\"\"\"Broadcast an array to a new shape.\u001b[39;00m\n\u001b[1;32m    380\u001b[0m \n\u001b[1;32m    381\u001b[0m \u001b[38;5;124;03m    Parameters\u001b[39;00m\n\u001b[0;32m   (...)\u001b[0m\n\u001b[1;32m    422\u001b[0m \u001b[38;5;124;03m           [1, 2, 3]])\u001b[39;00m\n\u001b[1;32m    423\u001b[0m \u001b[38;5;124;03m    \"\"\"\u001b[39;00m\n\u001b[0;32m--> 424\u001b[0m     \u001b[38;5;28;01mreturn\u001b[39;00m \u001b[43m_broadcast_to\u001b[49m\u001b[43m(\u001b[49m\u001b[43marray\u001b[49m\u001b[43m,\u001b[49m\u001b[43m \u001b[49m\u001b[43mshape\u001b[49m\u001b[43m,\u001b[49m\u001b[43m \u001b[49m\u001b[43msubok\u001b[49m\u001b[38;5;241;43m=\u001b[39;49m\u001b[43msubok\u001b[49m\u001b[43m,\u001b[49m\u001b[43m \u001b[49m\u001b[43mreadonly\u001b[49m\u001b[38;5;241;43m=\u001b[39;49m\u001b[38;5;28;43;01mTrue\u001b[39;49;00m\u001b[43m)\u001b[49m\n",
      "File \u001b[0;32m~/Documents/codes/templedata/venv/lib/python3.13/site-packages/numpy/lib/_stride_tricks_impl.py:359\u001b[0m, in \u001b[0;36m_broadcast_to\u001b[0;34m(array, shape, subok, readonly)\u001b[0m\n\u001b[1;32m    356\u001b[0m     \u001b[38;5;28;01mraise\u001b[39;00m \u001b[38;5;167;01mValueError\u001b[39;00m(\u001b[38;5;124m'\u001b[39m\u001b[38;5;124mall elements of broadcast shape must be non-\u001b[39m\u001b[38;5;124m'\u001b[39m\n\u001b[1;32m    357\u001b[0m                      \u001b[38;5;124m'\u001b[39m\u001b[38;5;124mnegative\u001b[39m\u001b[38;5;124m'\u001b[39m)\n\u001b[1;32m    358\u001b[0m extras \u001b[38;5;241m=\u001b[39m []\n\u001b[0;32m--> 359\u001b[0m it \u001b[38;5;241m=\u001b[39m \u001b[43mnp\u001b[49m\u001b[38;5;241;43m.\u001b[39;49m\u001b[43mnditer\u001b[49m\u001b[43m(\u001b[49m\n\u001b[1;32m    360\u001b[0m \u001b[43m    \u001b[49m\u001b[43m(\u001b[49m\u001b[43marray\u001b[49m\u001b[43m,\u001b[49m\u001b[43m)\u001b[49m\u001b[43m,\u001b[49m\u001b[43m \u001b[49m\u001b[43mflags\u001b[49m\u001b[38;5;241;43m=\u001b[39;49m\u001b[43m[\u001b[49m\u001b[38;5;124;43m'\u001b[39;49m\u001b[38;5;124;43mmulti_index\u001b[39;49m\u001b[38;5;124;43m'\u001b[39;49m\u001b[43m,\u001b[49m\u001b[43m \u001b[49m\u001b[38;5;124;43m'\u001b[39;49m\u001b[38;5;124;43mrefs_ok\u001b[39;49m\u001b[38;5;124;43m'\u001b[39;49m\u001b[43m,\u001b[49m\u001b[43m \u001b[49m\u001b[38;5;124;43m'\u001b[39;49m\u001b[38;5;124;43mzerosize_ok\u001b[39;49m\u001b[38;5;124;43m'\u001b[39;49m\u001b[43m]\u001b[49m\u001b[43m \u001b[49m\u001b[38;5;241;43m+\u001b[39;49m\u001b[43m \u001b[49m\u001b[43mextras\u001b[49m\u001b[43m,\u001b[49m\n\u001b[1;32m    361\u001b[0m \u001b[43m    \u001b[49m\u001b[43mop_flags\u001b[49m\u001b[38;5;241;43m=\u001b[39;49m\u001b[43m[\u001b[49m\u001b[38;5;124;43m'\u001b[39;49m\u001b[38;5;124;43mreadonly\u001b[39;49m\u001b[38;5;124;43m'\u001b[39;49m\u001b[43m]\u001b[49m\u001b[43m,\u001b[49m\u001b[43m \u001b[49m\u001b[43mitershape\u001b[49m\u001b[38;5;241;43m=\u001b[39;49m\u001b[43mshape\u001b[49m\u001b[43m,\u001b[49m\u001b[43m \u001b[49m\u001b[43morder\u001b[49m\u001b[38;5;241;43m=\u001b[39;49m\u001b[38;5;124;43m'\u001b[39;49m\u001b[38;5;124;43mC\u001b[39;49m\u001b[38;5;124;43m'\u001b[39;49m\u001b[43m)\u001b[49m\n\u001b[1;32m    362\u001b[0m \u001b[38;5;28;01mwith\u001b[39;00m it:\n\u001b[1;32m    363\u001b[0m     \u001b[38;5;66;03m# never really has writebackifcopy semantics\u001b[39;00m\n\u001b[1;32m    364\u001b[0m     broadcast \u001b[38;5;241m=\u001b[39m it\u001b[38;5;241m.\u001b[39mitviews[\u001b[38;5;241m0\u001b[39m]\n",
      "\u001b[0;31mValueError\u001b[0m: operands could not be broadcast together with remapped shapes [original->remapped]: (258048,4)  and requested shape (258048,4,4)"
     ]
    }
   ],
   "source": [
    "# Aplicação no dado\n",
    "process_single_channel(output_dir, channel,fs)"
   ]
  }
 ],
 "metadata": {
  "kernelspec": {
   "display_name": "venv",
   "language": "python",
   "name": "python3"
  },
  "language_info": {
   "codemirror_mode": {
    "name": "ipython",
    "version": 3
   },
   "file_extension": ".py",
   "mimetype": "text/x-python",
   "name": "python",
   "nbconvert_exporter": "python",
   "pygments_lexer": "ipython3",
   "version": "3.13.1"
  }
 },
 "nbformat": 4,
 "nbformat_minor": 2
}
